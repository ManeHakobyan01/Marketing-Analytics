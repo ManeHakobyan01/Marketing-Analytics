{
  "nbformat": 4,
  "nbformat_minor": 0,
  "metadata": {
    "colab": {
      "name": "DataGeneration.ipynb",
      "provenance": []
    },
    "kernelspec": {
      "name": "python3",
      "display_name": "Python 3"
    },
    "language_info": {
      "name": "python"
    }
  },
  "cells": [
    {
      "cell_type": "code",
      "execution_count": 2,
      "metadata": {
        "id": "5vVGBB6ljGPJ"
      },
      "outputs": [],
      "source": [
        "import numpy as np\n",
        "import pandas as pd"
      ]
    },
    {
      "cell_type": "code",
      "source": [
        "basic_names = [\"user_id\",\"version\",\"minutes_play\",\"day_1_active\",\"day_7_active\"]\n"
      ],
      "metadata": {
        "id": "YJYIe5oclbBy"
      },
      "execution_count": 3,
      "outputs": []
    },
    {
      "cell_type": "code",
      "source": [
        "it = 0\n",
        "def Generate_Sample_data(number_of_datapoints, version):\n",
        "    global it\n",
        "    data = np.array([1000*it + np.arange(num_of_datapoints)+1,\n",
        "                     [version]*num_of_datapoints,\n",
        "                     np.random.random(size =(num_of_datapoints)) * 10 ,\n",
        "                     np.random.randint(2,size = num_of_datapoints),\n",
        "                     np.random.randint(2,size = num_of_datapoints)]).T\n",
        "    it+=1\n",
        "    return data\n",
        "def create_dataframe(num_of_datapoints,version,feature_names):\n",
        "    return pd.DataFrame(\n",
        "    data = Generate_Sample_data(num_of_datapoints,version = version),\n",
        "    columns= feature_names)\n",
        "    \n",
        "    \n",
        "def generate_dataset(num_of_groups,num_of_datapoints,feature_names):\n",
        "    control_group = create_dataframe(num_of_datapoints,\"control\",feature_names)\n",
        "    Treatment_groups = [create_dataframe(num_of_datapoints,\n",
        "                                     \"treatment_\"+str(i+1),feature_names) for i in range(num_of_groups)]\n",
        "    return pd.concat([control_group,pd.concat(Treatment_groups)])\n",
        "def generte_treatment_results(num_of_groups,num_of_datapoints,feature_names):\n",
        "    return np.array([np.random.randint(2,size = num_of_datapoints) for i in range(num_of_groups)])"
      ],
      "metadata": {
        "id": "jZzEiRJflcUn"
      },
      "execution_count": 4,
      "outputs": []
    },
    {
      "cell_type": "code",
      "source": [
        "num_of_groups = int(input(\"Input number of groups\"))\n",
        "feature_names = basic_names\n",
        "num_of_datapoints =  int(input(\"Input number of datapoint per group\"))\n",
        "data = generate_dataset(num_of_groups,num_of_datapoints,feature_names) \n",
        "results = generte_treatment_results(num_of_groups,num_of_datapoints,feature_names) "
      ],
      "metadata": {
        "colab": {
          "base_uri": "https://localhost:8080/"
        },
        "id": "qGPAjzmXjG88",
        "outputId": "2736957a-1b31-4748-e738-dbae20c6f30f"
      },
      "execution_count": 5,
      "outputs": [
        {
          "name": "stdout",
          "output_type": "stream",
          "text": [
            "Input number of groups5\n",
            "Input number of datapoint per group1000\n"
          ]
        }
      ]
    },
    {
      "cell_type": "code",
      "source": [
        "data.head(),data.tail()"
      ],
      "metadata": {
        "colab": {
          "base_uri": "https://localhost:8080/"
        },
        "id": "v_nXAJwtjHuF",
        "outputId": "da97504d-f02d-4775-81a9-129606344a65"
      },
      "execution_count": 6,
      "outputs": [
        {
          "output_type": "execute_result",
          "data": {
            "text/plain": [
              "(  user_id  version        minutes_play day_1_active day_7_active\n",
              " 0       1  control  1.8845875816666124            0            0\n",
              " 1       2  control  2.8819411874282497            0            0\n",
              " 2       3  control   6.784765599708051            1            0\n",
              " 3       4  control   4.677627935507863            1            0\n",
              " 4       5  control   2.541806612765003            1            1,\n",
              "     user_id      version         minutes_play day_1_active day_7_active\n",
              " 995    5996  treatment_5  0.36713858983651093            1            0\n",
              " 996    5997  treatment_5    8.344191460287394            0            1\n",
              " 997    5998  treatment_5    9.742462289254096            1            1\n",
              " 998    5999  treatment_5    5.901575378740464            0            0\n",
              " 999    6000  treatment_5   2.7253931974605217            0            0)"
            ]
          },
          "metadata": {},
          "execution_count": 6
        }
      ]
    },
    {
      "cell_type": "code",
      "source": [
        "results[:5]"
      ],
      "metadata": {
        "colab": {
          "base_uri": "https://localhost:8080/"
        },
        "id": "8fn2vbT5jIgV",
        "outputId": "a7bdc1c3-97e7-48f5-95b4-e5169acab43a"
      },
      "execution_count": 7,
      "outputs": [
        {
          "output_type": "execute_result",
          "data": {
            "text/plain": [
              "array([[0, 0, 1, ..., 1, 0, 0],\n",
              "       [1, 1, 0, ..., 1, 0, 0],\n",
              "       [0, 0, 0, ..., 0, 0, 1],\n",
              "       [0, 1, 0, ..., 0, 1, 1],\n",
              "       [0, 1, 1, ..., 1, 0, 0]])"
            ]
          },
          "metadata": {},
          "execution_count": 7
        }
      ]
    },
    {
      "cell_type": "code",
      "source": [
        "import pandas as pd\n",
        "import scipy.stats as stats"
      ],
      "metadata": {
        "id": "1B2SECLSjLTP"
      },
      "execution_count": 12,
      "outputs": []
    },
    {
      "cell_type": "code",
      "source": [
        "fvalue, pvalue = stats.f_oneway(data['day_1_active'], data['day_7_active'], data['minutes_play'])\n",
        "print(fvalue, pvalue)\n"
      ],
      "metadata": {
        "colab": {
          "base_uri": "https://localhost:8080/"
        },
        "id": "u1zv4VMQ9T8j",
        "outputId": "bad19a76-a7cb-4e5b-a67d-33fdb6f39e2c"
      },
      "execution_count": 15,
      "outputs": [
        {
          "output_type": "stream",
          "name": "stdout",
          "text": [
            "13453.495482857104 0.0\n"
          ]
        }
      ]
    },
    {
      "cell_type": "code",
      "source": [
        "import statsmodels.api as sm\n",
        "from statsmodels.formula.api import ols\n",
        "from statsmodels.stats.anova import anova_lm\n",
        "from statsmodels.regression.linear_model import OLS"
      ],
      "metadata": {
        "id": "23nlogRk9T5F"
      },
      "execution_count": 39,
      "outputs": []
    },
    {
      "cell_type": "code",
      "source": [
        ""
      ],
      "metadata": {
        "id": "YPN02_hx9T0_"
      },
      "execution_count": 39,
      "outputs": []
    },
    {
      "cell_type": "code",
      "source": [
        "model = data.ols(formula='day_1_active ~ version', data=data).fit()\n",
        "aov_table = anova_lm(model, typ=2)\n",
        "print(np.round(aov_table,4))"
      ],
      "metadata": {
        "id": "RJaQWku3AMcg"
      },
      "execution_count": null,
      "outputs": []
    },
    {
      "cell_type": "code",
      "source": [
        ""
      ],
      "metadata": {
        "id": "TOOf8js-AMZU"
      },
      "execution_count": 28,
      "outputs": []
    },
    {
      "cell_type": "code",
      "source": [
        ""
      ],
      "metadata": {
        "id": "rWXJmGT4AMV3"
      },
      "execution_count": 28,
      "outputs": []
    },
    {
      "cell_type": "code",
      "source": [
        ""
      ],
      "metadata": {
        "id": "y1tITDKRcO4-"
      },
      "execution_count": null,
      "outputs": []
    }
  ]
}